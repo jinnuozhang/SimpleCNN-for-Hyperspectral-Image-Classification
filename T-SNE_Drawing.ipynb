{
 "cells": [
  {
   "cell_type": "code",
   "execution_count": 1,
   "metadata": {},
   "outputs": [],
   "source": [
    "from PIL import Image\n",
    "import os\n",
    "import numpy as np\n",
    "import pandas as pd\n",
    "import cv2\n",
    "import os \n",
    "import matplotlib.pyplot as plt"
   ]
  },
  {
   "cell_type": "code",
   "execution_count": 2,
   "metadata": {},
   "outputs": [],
   "source": [
    "def cal_pairwise_dist(x):\n",
    "    '''计算pairwise 距离, x是matrix\n",
    "    (a-b)^2 = a^w + b^2 - 2*a*b\n",
    "    '''\n",
    "    sum_x = np.sum(np.square(x), 1)\n",
    "    dist = np.add(np.add(-2 * np.dot(x, x.T), sum_x).T, sum_x)\n",
    "    return dist\n",
    "def cal_perplexity(dist, idx=0, beta=1.0):\n",
    "    '''计算perplexity, D是距离向量，\n",
    "    idx指dist中自己与自己距离的位置，beta是高斯分布参数\n",
    "    这里的perp仅计算了熵，方便计算\n",
    "    '''\n",
    "    prob = np.exp(-dist * beta)\n",
    "    # 设置自身prob为0\n",
    "    prob[idx] = 0\n",
    "    sum_prob = np.sum(prob)\n",
    "    perp = np.log(sum_prob) + beta * np.sum(dist * prob) / sum_prob\n",
    "    prob /= sum_prob\n",
    "    return perp, prob\n",
    "def seach_prob(x, tol=1e-5, perplexity=30.0):\n",
    "    '''二分搜索寻找beta,并计算pairwise的prob\n",
    "    '''\n",
    " \n",
    "    # 初始化参数\n",
    "    print(\"Computing pairwise distances...\")\n",
    "    (n, d) = x.shape\n",
    "    dist = cal_pairwise_dist(x)\n",
    "    pair_prob = np.zeros((n, n))\n",
    "    beta = np.ones((n, 1))\n",
    "    # 取log，方便后续计算\n",
    "    base_perp = np.log(perplexity)\n",
    " \n",
    "    for i in range(n):\n",
    "        if i % 500 == 0:\n",
    "            print(\"Computing pair_prob for point %s of %s ...\" %(i,n))\n",
    " \n",
    "        betamin = -np.inf\n",
    "        betamax = np.inf\n",
    "        perp, this_prob = cal_perplexity(dist[i], i, beta[i])\n",
    " \n",
    "        # 二分搜索,寻找最佳sigma下的prob\n",
    "        perp_diff = perp - base_perp\n",
    "        tries = 0\n",
    "        while np.abs(perp_diff) > tol and tries < 50:\n",
    "            if perp_diff > 0:\n",
    "                betamin = beta[i].copy()\n",
    "                if betamax == np.inf or betamax == -np.inf:\n",
    "                    beta[i] = beta[i] * 2\n",
    "                else:\n",
    "                    beta[i] = (beta[i] + betamax) / 2\n",
    "            else:\n",
    "                betamax = beta[i].copy()\n",
    "                if betamin == np.inf or betamin == -np.inf:\n",
    "                    beta[i] = beta[i] / 2\n",
    "                else:\n",
    "                    beta[i] = (beta[i] + betamin) / 2\n",
    " \n",
    "            # 更新perb,prob值\n",
    "            perp, this_prob = cal_perplexity(dist[i], i, beta[i])\n",
    "            perp_diff = perp - base_perp\n",
    "            tries = tries + 1\n",
    "        # 记录prob值\n",
    "        pair_prob[i,] = this_prob\n",
    "    print(\"Mean value of sigma: \", np.mean(np.sqrt(1 / beta)))\n",
    "    return pair_prob\n",
    "def pca(x, no_dims):\n",
    "    ''' PCA算法\n",
    "    使用PCA先进行预降维\n",
    "    '''\n",
    "    print(\"Preprocessing the data using PCA...\")\n",
    "    (n, d) = x.shape\n",
    "    x = x - np.tile(np.mean(x, 0), (n, 1))\n",
    "    l, M = np.linalg.eig(np.dot(x.T, x))\n",
    "    y = np.dot(x, M[:,0:no_dims])\n",
    "    return y\n",
    "def tsne(x, no_dims, initial_dims, perplexity, max_iter):\n",
    "    \"\"\"Runs t-SNE on the dataset in the NxD array x\n",
    "    to reduce its dimensionality to no_dims dimensions.\n",
    "    The syntaxis of the function is Y = tsne.tsne(x, no_dims, perplexity),\n",
    "    where x is an NxD NumPy array.\n",
    "    \"\"\"\n",
    " \n",
    "    # Check inputs\n",
    "    if isinstance(no_dims, float):\n",
    "        print(\"Error: array x should have type float.\")\n",
    "        return -1\n",
    "    if round(no_dims) != no_dims:\n",
    "        print(\"Error: number of dimensions should be an integer.\")\n",
    "        return -1\n",
    " \n",
    "    # 初始化参数和变量\n",
    "    x = pca(x, initial_dims).real\n",
    "    (n, d) = x.shape\n",
    "    initial_momentum = 0.5\n",
    "    final_momentum = 0.8\n",
    "    eta = 500\n",
    "    min_gain = 0.01\n",
    "    y = np.random.randn(n, no_dims)\n",
    "    dy = np.zeros((n, no_dims))\n",
    "    iy = np.zeros((n, no_dims))\n",
    "    gains = np.ones((n, no_dims))\n",
    " \n",
    "    # 对称化\n",
    "    P = seach_prob(x, 1e-5, perplexity)\n",
    "    P = P + np.transpose(P)\n",
    "    P = P / np.sum(P)\n",
    "    # early exaggeration\n",
    "    P = P * 4\n",
    "    P = np.maximum(P, 1e-12)\n",
    " \n",
    "    # Run iterations\n",
    "    for iter in range(max_iter):\n",
    "        # Compute pairwise affinities\n",
    "        sum_y = np.sum(np.square(y), 1)\n",
    "        num = 1 / (1 + np.add(np.add(-2 * np.dot(y, y.T), sum_y).T, sum_y))\n",
    "        num[range(n), range(n)] = 0\n",
    "        Q = num / np.sum(num)\n",
    "        Q = np.maximum(Q, 1e-12)\n",
    " \n",
    "        # Compute gradient\n",
    "        PQ = P - Q\n",
    "        for i in range(n):\n",
    "            dy[i,:] = np.sum(np.tile(PQ[:,i] * num[:,i], (no_dims, 1)).T * (y[i,:] - y), 0)\n",
    " \n",
    "        # Perform the update\n",
    "        if iter < 20:\n",
    "            momentum = initial_momentum\n",
    "        else:\n",
    "            momentum = final_momentum\n",
    "        gains = (gains + 0.2) * ((dy > 0) != (iy > 0)) + (gains * 0.8) * ((dy > 0) == (iy > 0))\n",
    "        gains[gains < min_gain] = min_gain\n",
    "        iy = momentum * iy - eta * (gains * dy)\n",
    "        y = y + iy\n",
    "        y = y - np.tile(np.mean(y, 0), (n, 1))\n",
    "        # Compute current value of cost function\n",
    "        if (iter + 1) % 100 == 0:\n",
    "            if iter > 100:\n",
    "                C = np.sum(P * np.log(P / Q))\n",
    "            else:\n",
    "                C = np.sum( P/4 * np.log( P/4 / Q))\n",
    "            print(\"Iteration \", (iter + 1), \": error is \", C)\n",
    "        # Stop lying about P-values\n",
    "        if iter == 100:\n",
    "            P = P / 4\n",
    "    print(\"finished training!\")\n",
    "    return y"
   ]
  },
  {
   "cell_type": "code",
   "execution_count": 86,
   "metadata": {},
   "outputs": [],
   "source": [
    "X1 = pd.read_excel('ggp1D-validx.xlsx', header=None).values\n",
    "labels = pd.read_excel('ggp1D-validy.xlsx', header=None).values"
   ]
  },
  {
   "cell_type": "code",
   "execution_count": 87,
   "metadata": {},
   "outputs": [
    {
     "data": {
      "text/plain": [
       "(800, 200)"
      ]
     },
     "execution_count": 87,
     "metadata": {},
     "output_type": "execute_result"
    }
   ],
   "source": [
    "X1.shape"
   ]
  },
  {
   "cell_type": "code",
   "execution_count": 88,
   "metadata": {},
   "outputs": [
    {
     "name": "stdout",
     "output_type": "stream",
     "text": [
      "Preprocessing the data using PCA...\n",
      "Computing pairwise distances...\n",
      "Computing pair_prob for point 0 of 800 ...\n",
      "Computing pair_prob for point 500 of 800 ...\n",
      "Mean value of sigma:  2.1531716677996275\n",
      "Iteration  100 : error is  1.481725815184367\n",
      "Iteration  200 : error is  0.49458763130002154\n",
      "Iteration  300 : error is  0.4659204172394976\n",
      "Iteration  400 : error is  0.46011025874062456\n",
      "Iteration  500 : error is  0.45760941417069895\n",
      "Iteration  600 : error is  0.45619880313996747\n",
      "Iteration  700 : error is  0.4553011849483905\n",
      "Iteration  800 : error is  0.4546948278862734\n",
      "Iteration  900 : error is  0.45426891186555374\n",
      "Iteration  1000 : error is  0.4539608476248138\n",
      "finished training!\n"
     ]
    }
   ],
   "source": [
    "# Run Y = tsne.tsne(X, no_dims, perplexity) to perform t-SNE on your dataset.\n",
    "#X2 = intermediate_output\n",
    "Y = tsne(X1, 2, 200, 30.0, 1000)\n",
    "#Y2 = tsne(X2, 2, 6, 30.0, 500)"
   ]
  },
  {
   "cell_type": "code",
   "execution_count": 89,
   "metadata": {},
   "outputs": [
    {
     "data": {
      "image/png": "[encoded data removed]",
      "text/plain": [
       "<Figure size 432x288 with 1 Axes>"
      ]
     },
     "metadata": {
      "needs_background": "light"
     },
     "output_type": "display_data"
    }
   ],
   "source": [
    "from matplotlib import pyplot as plt\n",
    "for i in range(len(labels)):\n",
    "    if labels[i] == 0:\n",
    "        plt.scatter(Y[i:i+1, 0], Y[i:i+1 ,1],10, color='red',marker =  'd')\n",
    "    if labels[i] == 1:\n",
    "        plt.scatter(Y[i:i+1, 0], Y[i:i+1, 1],10,color='green',marker =  'd')\n",
    "    if labels[i] == 2:\n",
    "        plt.scatter(Y[i:i+1, 0], Y[i:i+1 ,1],10,color='blue',marker =  'd')\n",
    "plt.legend([\"A\",\"B\",\"Normal\"])\n",
    "plt.savefig(\"original-1Dggp.jpg\",dpi = 1000)\n",
    "plt.show()"
   ]
  },
  {
   "cell_type": "code",
   "execution_count": 104,
   "metadata": {},
   "outputs": [
    {
     "data": {
      "text/plain": [
       "(800, 3)"
      ]
     },
     "execution_count": 104,
     "metadata": {},
     "output_type": "execute_result"
    }
   ],
   "source": [
    "X2 = pd.read_excel('ggp1D-dense2.xlsx', header=None).values\n",
    "X2.shape"
   ]
  },
  {
   "cell_type": "code",
   "execution_count": 95,
   "metadata": {},
   "outputs": [],
   "source": [
    "train_mean = np.mean(X2, axis=0)\n",
    "train_std = np.std(X2, axis=0)\n",
    "X2 = (X2 - train_mean) / train_std"
   ]
  },
  {
   "cell_type": "code",
   "execution_count": 105,
   "metadata": {},
   "outputs": [
    {
     "name": "stdout",
     "output_type": "stream",
     "text": [
      "Preprocessing the data using PCA...\n",
      "Computing pairwise distances...\n",
      "Computing pair_prob for point 0 of 800 ...\n",
      "Computing pair_prob for point 500 of 800 ...\n",
      "Mean value of sigma:  0.9293214647520195\n",
      "Iteration  100 : error is  1.3871281754703995\n",
      "Iteration  200 : error is  0.4304154691752179\n",
      "Iteration  300 : error is  0.40802471694606135\n",
      "Iteration  400 : error is  0.40308626780779505\n",
      "Iteration  500 : error is  0.4005211609588452\n",
      "Iteration  600 : error is  0.39876244653989595\n",
      "Iteration  700 : error is  0.3973960903499584\n",
      "Iteration  800 : error is  0.39626730472305954\n",
      "Iteration  900 : error is  0.39530428529060846\n",
      "Iteration  1000 : error is  0.39446256210370373\n",
      "finished training!\n"
     ]
    }
   ],
   "source": [
    "Y = tsne(X2, 2, 3, 30.0, 1000)"
   ]
  },
  {
   "cell_type": "code",
   "execution_count": 106,
   "metadata": {
    "scrolled": true
   },
   "outputs": [
    {
     "data": {
      "image/png": "[encoded data removed]",
      "text/plain": [
       "<Figure size 432x288 with 1 Axes>"
      ]
     },
     "metadata": {
      "needs_background": "light"
     },
     "output_type": "display_data"
    }
   ],
   "source": [
    "  for i in range(len(labels)):\n",
    "      if labels[i] == 0:\n",
    "          plt.scatter(Y[i:i+1, 0], Y[i:i+1 ,1],10, color='red',marker = 'd')\n",
    "      if labels[i] == 1:\n",
    "          plt.scatter(Y[i:i+1, 0], Y[i:i+1, 1],10,color='green',marker =  'd')\n",
    "      if labels[i] == 2:\n",
    "          plt.scatter(Y[i:i+1, 0], Y[i:i+1 ,1],10,color='blue',marker =  'd')\n",
    "plt.legend([\"A\",\"B\",\"Normal\"])\n",
    "plt.savefig(\"ggp1D-dense2.jpg\",dpi = 1000)\n",
    "plt.show()"
   ]
  },
  {
   "cell_type": "code",
   "execution_count": null,
   "metadata": {},
   "outputs": [],
   "source": []
  }
 ],
 "metadata": {
  "kernelspec": {
   "display_name": "Python 3",
   "language": "python",
   "name": "python3"
  },
  "language_info": {
   "codemirror_mode": {
    "name": "ipython",
    "version": 3
   },
   "file_extension": ".py",
   "mimetype": "text/x-python",
   "name": "python",
   "nbconvert_exporter": "python",
   "pygments_lexer": "ipython3",
   "version": "3.6.3"
  }
 },
 "nbformat": 4,
 "nbformat_minor": 2
}
